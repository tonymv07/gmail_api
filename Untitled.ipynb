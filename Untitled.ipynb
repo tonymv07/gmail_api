{
 "cells": [
  {
   "cell_type": "code",
   "execution_count": null,
   "id": "eb03f7de",
   "metadata": {
    "scrolled": true
   },
   "outputs": [],
   "source": [
    "import win32com.client\n",
    "import os\n",
    "from datetime import datetime, timedelta\n",
    "import csv\n",
    "\n",
    "outlook = win32com.client.Dispatch(\"Outlook.Application\")\n",
    "mapi = outlook.GetNamespace('MAPI')\n",
    "\n",
    "today = datetime.today()\n",
    "\n",
    "#120 = intervalo de consulta en segundos\n",
    "#segundos = (today.timestamp()-120)\n",
    "\n",
    "#interval = datetime.fromtimestamp(segundos)\n",
    "\n",
    "start_time = today.replace(day=1, hour=0, minute=0, second=0).strftime('%Y-%m-%d %H:%M %p')\n",
    "\n",
    "#start_time = interval.strftime('%Y-%m-%d %H:%M %p')\n",
    "\n",
    "end_time = today.strftime('%Y-%m-%d %H:%M %p')\n",
    "\n",
    "\n",
    "print(start_time)\n",
    "print(end_time)\n",
    "\n",
    "\n",
    "messages = mapi.Folders(\"info@pulseaapp.com\").Folders(\"Bandeja de entrada\").Items\n",
    "messages = messages.Restrict(\"[ReceivedTime] >= '\" + start_time\n",
    "+ \"' And [ReceivedTime] <= '\" + end_time + \"'\")\n",
    "messages = messages.Restrict(\"[Subject] = 'Solicitud de información PULSEA'\") \n",
    "\n",
    "contactos = []\n",
    "\n",
    "for msg in list(messages):\n",
    "\n",
    "    info = msg.Body.replace(\"Nombre: \",\"\")\n",
    "    info = info.replace(\"Numero: \",\"\")\n",
    "    info = info.replace(\"Correo: \",\"\") \n",
    "    info = info.replace(\"Mensaje: \",\"\")\n",
    "    \n",
    "    info_split = info.split(\"\\r\\n\")\n",
    "    json = {}\n",
    "    json[\"Nombre\"] = info_split[1]\n",
    "    json[\"Numero\"] = info_split[2]\n",
    "    json[\"Correo\"] = info_split[3]\n",
    "    json[\"Mensaje\"] = info_split[4]\n",
    "    \n",
    "    contactos.append(json)\n",
    "\n",
    "for item in contactos:\n",
    "    print(item)\n",
    "\n",
    "\n",
    "with open(\"pulsea_contactos.csv\",\"w\",newline=\"\") as file:\n",
    "    csv_file = csv.writer(file)\n",
    "    csv_file.writerow([\"Nombre\",\"Numero\",\"Correo\",\"Mensaje\"])\n",
    "    for item in contactos:\n",
    "        csv_file.writerow([item[\"Nombre\"],item[\"Numero\"],item[\"Correo\"],item[\"Mensaje\"]])\n",
    "\n"
   ]
  },
  {
   "cell_type": "code",
   "execution_count": null,
   "id": "e47a154b",
   "metadata": {},
   "outputs": [],
   "source": []
  },
  {
   "cell_type": "code",
   "execution_count": null,
   "id": "0285bbe4",
   "metadata": {},
   "outputs": [],
   "source": []
  }
 ],
 "metadata": {
  "kernelspec": {
   "display_name": "Python 3 (ipykernel)",
   "language": "python",
   "name": "python3"
  },
  "language_info": {
   "codemirror_mode": {
    "name": "ipython",
    "version": 3
   },
   "file_extension": ".py",
   "mimetype": "text/x-python",
   "name": "python",
   "nbconvert_exporter": "python",
   "pygments_lexer": "ipython3",
   "version": "3.10.1"
  }
 },
 "nbformat": 4,
 "nbformat_minor": 5
}
